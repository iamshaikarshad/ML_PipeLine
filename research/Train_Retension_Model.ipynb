{
 "cells": [
  {
   "cell_type": "code",
   "execution_count": 34,
   "id": "4a9499cd",
   "metadata": {},
   "outputs": [],
   "source": [
    "import json # will be needed for saving preprocessing details\n",
    "import numpy as np # for data manipulation\n",
    "import pandas as pd # for data manipulation\n",
    "from sklearn.model_selection import train_test_split # will be used for data split\n",
    "from sklearn.preprocessing import LabelEncoder # for preprocessing\n",
    "from sklearn.preprocessing import StandardScaler\n",
    "from sklearn.ensemble import RandomForestClassifier # for training the algorithm\n",
    "from sklearn.ensemble import ExtraTreesClassifier # for training the algorithm\n",
    "from sklearn.tree import DecisionTreeClassifier\n",
    "import joblib # for saving algorithm and preprocessing objects"
   ]
  },
  {
   "cell_type": "code",
   "execution_count": 35,
   "id": "6e382032",
   "metadata": {},
   "outputs": [],
   "source": [
    "df = pd.read_csv('C:/Users/imsha/Desktop/work/old resource/old-resources/CSV/Processed.csv', skipinitialspace=True)"
   ]
  },
  {
   "cell_type": "code",
   "execution_count": 36,
   "id": "195e2d90",
   "metadata": {},
   "outputs": [],
   "source": [
    "y = df['IsRetained']\n",
    "X = df.drop(columns = ['AccountRef1','C0RPRODUCTNAME','IsRetained','ThankYou','Confirm','EONPAYMENTMETHOD','SwitchedTariff_RankFiltered','SelectedTariff_HasRewardScheme','SelectedTariff_HasWinterPremium'])\n",
    "train_X, val_X, train_y, val_y = train_test_split(X, y,test_size = 0.25, random_state=1)"
   ]
  },
  {
   "cell_type": "code",
   "execution_count": 37,
   "id": "a3dc2365",
   "metadata": {},
   "outputs": [
    {
     "name": "stdout",
     "output_type": "stream",
     "text": [
      "{'C0RPRODUCTTYPE': 3.0, 'ELECMETERTYPE': 0.0, 'TOTELECCONSUMPTION': 2531.0, 'TOTE7CONSUMPTION': 0.0, 'TOTGASCONSUMPTION': 0.0, 'DNO': 14.0, 'DAYSINCONTRACTEND': 71.0, 'Home': 1.0, 'Intermediate': 1.0, 'Results': 1.0, 'MoreInfo': 0.0, 'CustomerDetails': 0.0, 'Journey': 2.0, 'SwitchCounts': 1.0, 'MinTotalCost': 0.0, 'MaxTotalCost': 0.0, 'Big6SavingPercentage': 0.0, 'SavingPecentage': 0.0, 'MinSavings': 0.0, 'MaxSavings': 0.0, 'CheapestBig6': 0.0, 'SelectedTariff_HasCancellationFee': 0.0, 'SelectedTariff_HasOnlineManagement': 0.0, 'SelectedTariff_HasPaperBilling': 0.0, 'SelectedTariff_HasWarmHomeDiscount': 0.0}\n"
     ]
    }
   ],
   "source": [
    "train_mode = dict(train_X.mode().iloc[0])\n",
    "print(train_mode)"
   ]
  },
  {
   "cell_type": "code",
   "execution_count": 38,
   "id": "44906225",
   "metadata": {},
   "outputs": [],
   "source": [
    "DT = DecisionTreeClassifier(max_leaf_nodes=100, random_state=1)\n",
    "DT= DT.fit(train_X, train_y)"
   ]
  },
  {
   "cell_type": "code",
   "execution_count": 39,
   "id": "b3268201",
   "metadata": {},
   "outputs": [],
   "source": [
    "# train the Random Forest algorithm\n",
    "rf = RandomForestClassifier(n_estimators = 100)\n",
    "rf = rf.fit(train_X, train_y)"
   ]
  },
  {
   "cell_type": "code",
   "execution_count": 40,
   "id": "d684e5e8",
   "metadata": {},
   "outputs": [],
   "source": [
    "et = ExtraTreesClassifier(n_estimators = 100)\n",
    "et = et.fit(train_X, train_y)"
   ]
  },
  {
   "cell_type": "code",
   "execution_count": 81,
   "id": "80c0b149",
   "metadata": {},
   "outputs": [],
   "source": [
    "\n",
    "class RandomForestClassifier:\n",
    "    def __init__(self):\n",
    "#         path_to_artifacts = \"../../research/\"\n",
    "#         self.values_fill_missing =  joblib.load(path_to_artifacts + \"train_mode.joblib\")\n",
    "        #self.encoders = joblib.load(path_to_artifacts + \"encoders.joblib\")\n",
    "        self.model = rf\n",
    "    def preprocessing(self, input_data):\n",
    "        # JSON to pandas DataFrame\n",
    "        input_data = pd.DataFrame(input_data)\n",
    "        # fill missing values\n",
    "        #input_data.fillna(self.values_fill_missing)\n",
    "        # convert categoricals\n",
    "        # for column in [\n",
    "        #     \"workclass\",\n",
    "        #     \"education\",\n",
    "        #     \"marital-status\",\n",
    "        #     \"occupation\",\n",
    "        #     \"relationship\",\n",
    "        #     \"race\",\n",
    "        #     \"sex\",\n",
    "        #     \"native-country\",\n",
    "        # ]:\n",
    "        #     categorical_convert = self.encoders[column]\n",
    "        #     input_data[column] = categorical_convert.transform(input_data[column])\n",
    "\n",
    "        return input_data\n",
    "    def predict(self, input_data):\n",
    "        print(self.model.predict(input_data))\n",
    "        return self.model.predict_proba(input_data)\n",
    "\n",
    "    def postprocessing(self, input_data):\n",
    "        label = \"0\"\n",
    "        if input_data[1] > 0.5:\n",
    "            label = \"1\"\n",
    "        return {\"probability\": input_data[1], \"label\": label, \"status\": \"OK\"}\n",
    "\n",
    "    def compute_prediction(self, input_data):\n",
    "        try:\n",
    "            input_data = self.preprocessing(input_data)\n",
    "            prediction = self.predict(input_data)[0]  # only one sample\n",
    "            prediction = self.postprocessing(prediction)\n",
    "        except Exception as e:\n",
    "            return {\"status\": \"Error\", \"message\": str(e)}\n",
    "\n",
    "        return prediction"
   ]
  },
  {
   "cell_type": "code",
   "execution_count": 82,
   "id": "54e20151",
   "metadata": {},
   "outputs": [
    {
     "name": "stdout",
     "output_type": "stream",
     "text": [
      "[0]\n"
     ]
    },
    {
     "data": {
      "text/plain": [
       "{'probability': 0.07, 'label': '0', 'status': 'OK'}"
      ]
     },
     "execution_count": 82,
     "metadata": {},
     "output_type": "execute_result"
    }
   ],
   "source": [
    "d= RandomForestClassifier()\n",
    "d.compute_prediction(val_X[:1])"
   ]
  },
  {
   "cell_type": "code",
   "execution_count": 43,
   "id": "fea02ac1",
   "metadata": {},
   "outputs": [
    {
     "data": {
      "text/plain": [
       "['./extra_trees.joblib']"
      ]
     },
     "execution_count": 43,
     "metadata": {},
     "output_type": "execute_result"
    }
   ],
   "source": [
    "joblib.dump(train_mode, \"./train_mode.joblib\", compress=True)\n",
    "#joblib.dump(encoders, \"./encoders.joblib\", compress=True)\n",
    "joblib.dump(DT, \"./decision_tree.joblib\", compress=True)\n",
    "joblib.dump(rf, \"./random_forest.joblib\", compress=True)\n",
    "joblib.dump(et, \"./extra_trees.joblib\", compress=True)"
   ]
  },
  {
   "cell_type": "code",
   "execution_count": null,
   "id": "1e4c897e",
   "metadata": {},
   "outputs": [],
   "source": []
  }
 ],
 "metadata": {
  "kernelspec": {
   "display_name": "Python 3 (ipykernel)",
   "language": "python",
   "name": "python3"
  },
  "language_info": {
   "codemirror_mode": {
    "name": "ipython",
    "version": 3
   },
   "file_extension": ".py",
   "mimetype": "text/x-python",
   "name": "python",
   "nbconvert_exporter": "python",
   "pygments_lexer": "ipython3",
   "version": "3.8.8"
  }
 },
 "nbformat": 4,
 "nbformat_minor": 5
}
