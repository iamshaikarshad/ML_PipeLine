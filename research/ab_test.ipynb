{
 "cells": [
  {
   "cell_type": "code",
   "execution_count": null,
   "id": "2237c458",
   "metadata": {},
   "outputs": [],
   "source": [
    "import json # will be needed for saving preprocessing details\n",
    "import numpy as np # for data manipulation\n",
    "import pandas as pd # for data manipulation\n",
    "from sklearn.model_selection import train_test_split # will be used for data split\n",
    "import requests"
   ]
  },
  {
   "cell_type": "code",
   "execution_count": null,
   "id": "e5399f13",
   "metadata": {},
   "outputs": [],
   "source": [
    "df = pd.read_csv('C:/Users/imsha/Desktop/work/old resource/old-resources/CSV/Processed.csv', skipinitialspace=True)\n",
    "y = df['IsRetained']\n",
    "X = df.drop(columns = ['AccountRef1','C0RPRODUCTNAME','IsRetained','ThankYou','Confirm','EONPAYMENTMETHOD','SwitchedTariff_RankFiltered','SelectedTariff_HasRewardScheme','SelectedTariff_HasWinterPremium'])\n",
    "train_X, val_X, train_y, val_y = train_test_split(X, y,test_size = 0.25, random_state=1)"
   ]
  },
  {
   "cell_type": "code",
   "execution_count": null,
   "id": "ef1ef854",
   "metadata": {},
   "outputs": [],
   "source": [
    "for i in range(200):\n",
    "    input_data = dict(X_test.iloc[i])\n",
    "    target = y_test.iloc[i]\n",
    "    r = requests.post(\"http://127.0.0.1:8000/api/v1/income_classifier/predict?status=ab_testing\", input_data)\n",
    "    response = r.json()\n",
    "    # provide feedback\n",
    "    requests.put(\"http://127.0.0.1:8000/api/v1/mlrequests/{}\".format(response[\"request_id\"]), {\"feedback\": target})"
   ]
  }
 ],
 "metadata": {
  "kernelspec": {
   "display_name": "Python 3 (ipykernel)",
   "language": "python",
   "name": "python3"
  },
  "language_info": {
   "codemirror_mode": {
    "name": "ipython",
    "version": 3
   },
   "file_extension": ".py",
   "mimetype": "text/x-python",
   "name": "python",
   "nbconvert_exporter": "python",
   "pygments_lexer": "ipython3",
   "version": "3.8.8"
  }
 },
 "nbformat": 4,
 "nbformat_minor": 5
}
